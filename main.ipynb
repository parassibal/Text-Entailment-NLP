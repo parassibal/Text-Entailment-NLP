{
  "nbformat": 4,
  "nbformat_minor": 0,
  "metadata": {
    "colab": {
      "name": "check.ipynb",
      "provenance": []
    },
    "kernelspec": {
      "name": "python3",
      "display_name": "Python 3"
    },
    "language_info": {
      "name": "python"
    },
    "accelerator": "GPU"
  },
  "cells": [
    {
      "cell_type": "markdown",
      "source": [
        "### Read training, dev and unlabeled test data"
      ],
      "metadata": {
        "id": "x619AzbMnfN6"
      }
    },
    {
      "cell_type": "markdown",
      "source": [
        "The following provides a starting code (Python 3) of how to read the labeled training and dev sentence pairs, and unlabeled test sentence pairs, into lists."
      ],
      "metadata": {
        "id": "ibG30HG7njlw"
      }
    },
    {
      "cell_type": "code",
      "execution_count": 31,
      "metadata": {
        "id": "eY45rQoOPa4b"
      },
      "outputs": [],
      "source": [
        "import csv"
      ]
    },
    {
      "cell_type": "code",
      "source": [
        "train, dev, test = [], [], []"
      ],
      "metadata": {
        "id": "NB6aBE2NoOVO"
      },
      "execution_count": 32,
      "outputs": []
    },
    {
      "cell_type": "code",
      "source": [
        "with open('./data/pnli_train.csv', encoding='utf-8') as fp:\n",
        "    csvreader = csv.reader(fp)\n",
        "    for x in csvreader:\n",
        "        # x[2] will be the label (0 or 1). x[0] and x[1] will be the sentence pairs.\n",
        "        train.append(x)\n",
        "print (len(train))\n",
        "print (train[:3])"
      ],
      "metadata": {
        "colab": {
          "base_uri": "https://localhost:8080/"
        },
        "id": "hIx41hgfPgTO",
        "outputId": "ebd77992-2460-4afd-b723-604dfc792b12"
      },
      "execution_count": 33,
      "outputs": [
        {
          "output_type": "stream",
          "name": "stdout",
          "text": [
            "5983\n",
            "[['Sometimes do exercise.', 'A person typically desire healthy life.', '1'], ['Who eats junk foods.', 'A person typically desire healthy life.', '0'], ['A person is sick.', 'A person typically desire healthy life.', '1']]\n"
          ]
        }
      ]
    },
    {
      "cell_type": "code",
      "source": [
        "with open('./data/pnli_dev.csv', encoding='utf-8') as fp:\n",
        "    csvreader = csv.reader(fp)\n",
        "    for x in csvreader:\n",
        "        # x[2] will be the label (0 or 1). x[0] and x[1] will be the sentence pairs.\n",
        "        dev.append(x)\n",
        "print (len(dev))\n",
        "print (dev[:3])"
      ],
      "metadata": {
        "colab": {
          "base_uri": "https://localhost:8080/"
        },
        "id": "h75kwOmsPiDC",
        "outputId": "aebf6dda-412f-42bb-c5bc-3d129205f2da"
      },
      "execution_count": 34,
      "outputs": [
        {
          "output_type": "stream",
          "name": "stdout",
          "text": [
            "1055\n",
            "[['A person is looking for accuracy.', 'A person typically desires accurate results.', '1'], ['A person does not care for accuracy.', 'A person typically desires accurate results.', '0'], ['The person double checks their data.', 'A person typically desires accurate results.', '1']]\n"
          ]
        }
      ]
    },
    {
      "cell_type": "code",
      "source": [
        "with open('./data/pnli_test_unlabeled.csv', encoding='utf-8') as fp:\n",
        "    csvreader = csv.reader(fp)\n",
        "    for x in csvreader:\n",
        "        # x[0] and x[1] will be the sentence pairs.\n",
        "        test.append(x)\n",
        "print (len(test))\n",
        "print (test[:3])"
      ],
      "metadata": {
        "colab": {
          "base_uri": "https://localhost:8080/"
        },
        "id": "-SsFrSIyPlr4",
        "outputId": "4626fb7b-d17c-443d-c988-d490dd3c4d9b"
      },
      "execution_count": 35,
      "outputs": [
        {
          "output_type": "stream",
          "name": "stdout",
          "text": [
            "4850\n",
            "[['The people want to have a romantic and pleasant feel.', 'People typically does desire to smell violets.'], ['The contract is to buy products from you.', 'Getting contract typically cause to make money or spend money.'], ['Train station is closed.', 'Line can typically be used to move train along tracks.']]\n"
          ]
        }
      ]
    },
    {
      "cell_type": "markdown",
      "source": [
        "### Main Code Body"
      ],
      "metadata": {
        "id": "3Y3HKvRAnP-7"
      }
    },
    {
      "cell_type": "markdown",
      "source": [
        "You may choose to experiment with different methods using your program. However, you need to embed the training and inference processes at here. We will use your prediction on the unlabeled test data to grade, while checking this part to understand how your method has produced the predictions."
      ],
      "metadata": {
        "id": "VHmhbyVznXba"
      }
    },
    {
      "cell_type": "code",
      "source": [
        "import pandas as pd\n",
        "train_data=pd.DataFrame(train,columns=[\"precondition\",\"statement\",\"labels\"])"
      ],
      "metadata": {
        "id": "FFwN8P1YXBXW"
      },
      "execution_count": 36,
      "outputs": []
    },
    {
      "cell_type": "code",
      "source": [
        "train_data.head()"
      ],
      "metadata": {
        "colab": {
          "base_uri": "https://localhost:8080/",
          "height": 206
        },
        "id": "ZWUEP-AXXExy",
        "outputId": "16e5c4c2-48c9-4427-9cd8-7972e7fdeaf0"
      },
      "execution_count": 37,
      "outputs": [
        {
          "output_type": "execute_result",
          "data": {
            "text/plain": [
              "                                        precondition  \\\n",
              "0                             Sometimes do exercise.   \n",
              "1                               Who eats junk foods.   \n",
              "2                                  A person is sick.   \n",
              "3                                  A person is dead.   \n",
              "4  A person eats properly and do exercise regularly.   \n",
              "\n",
              "                                 statement labels  \n",
              "0  A person typically desire healthy life.      1  \n",
              "1  A person typically desire healthy life.      0  \n",
              "2  A person typically desire healthy life.      1  \n",
              "3  A person typically desire healthy life.      0  \n",
              "4  A person typically desire healthy life.      1  "
            ],
            "text/html": [
              "\n",
              "  <div id=\"df-92892ef2-7de9-46a0-a58a-2dfab667e209\">\n",
              "    <div class=\"colab-df-container\">\n",
              "      <div>\n",
              "<style scoped>\n",
              "    .dataframe tbody tr th:only-of-type {\n",
              "        vertical-align: middle;\n",
              "    }\n",
              "\n",
              "    .dataframe tbody tr th {\n",
              "        vertical-align: top;\n",
              "    }\n",
              "\n",
              "    .dataframe thead th {\n",
              "        text-align: right;\n",
              "    }\n",
              "</style>\n",
              "<table border=\"1\" class=\"dataframe\">\n",
              "  <thead>\n",
              "    <tr style=\"text-align: right;\">\n",
              "      <th></th>\n",
              "      <th>precondition</th>\n",
              "      <th>statement</th>\n",
              "      <th>labels</th>\n",
              "    </tr>\n",
              "  </thead>\n",
              "  <tbody>\n",
              "    <tr>\n",
              "      <th>0</th>\n",
              "      <td>Sometimes do exercise.</td>\n",
              "      <td>A person typically desire healthy life.</td>\n",
              "      <td>1</td>\n",
              "    </tr>\n",
              "    <tr>\n",
              "      <th>1</th>\n",
              "      <td>Who eats junk foods.</td>\n",
              "      <td>A person typically desire healthy life.</td>\n",
              "      <td>0</td>\n",
              "    </tr>\n",
              "    <tr>\n",
              "      <th>2</th>\n",
              "      <td>A person is sick.</td>\n",
              "      <td>A person typically desire healthy life.</td>\n",
              "      <td>1</td>\n",
              "    </tr>\n",
              "    <tr>\n",
              "      <th>3</th>\n",
              "      <td>A person is dead.</td>\n",
              "      <td>A person typically desire healthy life.</td>\n",
              "      <td>0</td>\n",
              "    </tr>\n",
              "    <tr>\n",
              "      <th>4</th>\n",
              "      <td>A person eats properly and do exercise regularly.</td>\n",
              "      <td>A person typically desire healthy life.</td>\n",
              "      <td>1</td>\n",
              "    </tr>\n",
              "  </tbody>\n",
              "</table>\n",
              "</div>\n",
              "      <button class=\"colab-df-convert\" onclick=\"convertToInteractive('df-92892ef2-7de9-46a0-a58a-2dfab667e209')\"\n",
              "              title=\"Convert this dataframe to an interactive table.\"\n",
              "              style=\"display:none;\">\n",
              "        \n",
              "  <svg xmlns=\"http://www.w3.org/2000/svg\" height=\"24px\"viewBox=\"0 0 24 24\"\n",
              "       width=\"24px\">\n",
              "    <path d=\"M0 0h24v24H0V0z\" fill=\"none\"/>\n",
              "    <path d=\"M18.56 5.44l.94 2.06.94-2.06 2.06-.94-2.06-.94-.94-2.06-.94 2.06-2.06.94zm-11 1L8.5 8.5l.94-2.06 2.06-.94-2.06-.94L8.5 2.5l-.94 2.06-2.06.94zm10 10l.94 2.06.94-2.06 2.06-.94-2.06-.94-.94-2.06-.94 2.06-2.06.94z\"/><path d=\"M17.41 7.96l-1.37-1.37c-.4-.4-.92-.59-1.43-.59-.52 0-1.04.2-1.43.59L10.3 9.45l-7.72 7.72c-.78.78-.78 2.05 0 2.83L4 21.41c.39.39.9.59 1.41.59.51 0 1.02-.2 1.41-.59l7.78-7.78 2.81-2.81c.8-.78.8-2.07 0-2.86zM5.41 20L4 18.59l7.72-7.72 1.47 1.35L5.41 20z\"/>\n",
              "  </svg>\n",
              "      </button>\n",
              "      \n",
              "  <style>\n",
              "    .colab-df-container {\n",
              "      display:flex;\n",
              "      flex-wrap:wrap;\n",
              "      gap: 12px;\n",
              "    }\n",
              "\n",
              "    .colab-df-convert {\n",
              "      background-color: #E8F0FE;\n",
              "      border: none;\n",
              "      border-radius: 50%;\n",
              "      cursor: pointer;\n",
              "      display: none;\n",
              "      fill: #1967D2;\n",
              "      height: 32px;\n",
              "      padding: 0 0 0 0;\n",
              "      width: 32px;\n",
              "    }\n",
              "\n",
              "    .colab-df-convert:hover {\n",
              "      background-color: #E2EBFA;\n",
              "      box-shadow: 0px 1px 2px rgba(60, 64, 67, 0.3), 0px 1px 3px 1px rgba(60, 64, 67, 0.15);\n",
              "      fill: #174EA6;\n",
              "    }\n",
              "\n",
              "    [theme=dark] .colab-df-convert {\n",
              "      background-color: #3B4455;\n",
              "      fill: #D2E3FC;\n",
              "    }\n",
              "\n",
              "    [theme=dark] .colab-df-convert:hover {\n",
              "      background-color: #434B5C;\n",
              "      box-shadow: 0px 1px 3px 1px rgba(0, 0, 0, 0.15);\n",
              "      filter: drop-shadow(0px 1px 2px rgba(0, 0, 0, 0.3));\n",
              "      fill: #FFFFFF;\n",
              "    }\n",
              "  </style>\n",
              "\n",
              "      <script>\n",
              "        const buttonEl =\n",
              "          document.querySelector('#df-92892ef2-7de9-46a0-a58a-2dfab667e209 button.colab-df-convert');\n",
              "        buttonEl.style.display =\n",
              "          google.colab.kernel.accessAllowed ? 'block' : 'none';\n",
              "\n",
              "        async function convertToInteractive(key) {\n",
              "          const element = document.querySelector('#df-92892ef2-7de9-46a0-a58a-2dfab667e209');\n",
              "          const dataTable =\n",
              "            await google.colab.kernel.invokeFunction('convertToInteractive',\n",
              "                                                     [key], {});\n",
              "          if (!dataTable) return;\n",
              "\n",
              "          const docLinkHtml = 'Like what you see? Visit the ' +\n",
              "            '<a target=\"_blank\" href=https://colab.research.google.com/notebooks/data_table.ipynb>data table notebook</a>'\n",
              "            + ' to learn more about interactive tables.';\n",
              "          element.innerHTML = '';\n",
              "          dataTable['output_type'] = 'display_data';\n",
              "          await google.colab.output.renderOutput(dataTable, element);\n",
              "          const docLink = document.createElement('div');\n",
              "          docLink.innerHTML = docLinkHtml;\n",
              "          element.appendChild(docLink);\n",
              "        }\n",
              "      </script>\n",
              "    </div>\n",
              "  </div>\n",
              "  "
            ]
          },
          "metadata": {},
          "execution_count": 37
        }
      ]
    },
    {
      "cell_type": "code",
      "source": [
        "train_data[\"labels\"] = train_data[\"labels\"].astype(str).astype(int)"
      ],
      "metadata": {
        "id": "XBj65toL7p6l"
      },
      "execution_count": 38,
      "outputs": []
    },
    {
      "cell_type": "code",
      "source": [
        "train_data.dtypes"
      ],
      "metadata": {
        "colab": {
          "base_uri": "https://localhost:8080/"
        },
        "id": "3i7xLSNmXKs1",
        "outputId": "e038b917-dee5-4f04-ea34-d9c10bc99e24"
      },
      "execution_count": 39,
      "outputs": [
        {
          "output_type": "execute_result",
          "data": {
            "text/plain": [
              "precondition    object\n",
              "statement       object\n",
              "labels           int64\n",
              "dtype: object"
            ]
          },
          "metadata": {},
          "execution_count": 39
        }
      ]
    },
    {
      "cell_type": "code",
      "source": [
        "dev_data=pd.DataFrame(dev,columns=[\"precondition\",\"statement\",\"labels\"])"
      ],
      "metadata": {
        "id": "doHlUL2KXPYG"
      },
      "execution_count": 40,
      "outputs": []
    },
    {
      "cell_type": "code",
      "source": [
        "dev_data[\"labels\"] = dev_data[\"labels\"].astype(str).astype(int)"
      ],
      "metadata": {
        "id": "PTLXPPZ27oY-"
      },
      "execution_count": 41,
      "outputs": []
    },
    {
      "cell_type": "code",
      "source": [
        "test_data=pd.DataFrame(test,columns=[\"precondition\",\"statement\"])\n",
        "test_data.head()"
      ],
      "metadata": {
        "colab": {
          "base_uri": "https://localhost:8080/",
          "height": 206
        },
        "id": "KyzG8BHfPrD8",
        "outputId": "a25abfda-57fe-4e04-9d2b-0ee473d7baa0"
      },
      "execution_count": 42,
      "outputs": [
        {
          "output_type": "execute_result",
          "data": {
            "text/plain": [
              "                                        precondition  \\\n",
              "0  The people want to have a romantic and pleasan...   \n",
              "1          The contract is to buy products from you.   \n",
              "2                           Train station is closed.   \n",
              "3           There is no water for driving the boats.   \n",
              "4                                  The poet is busy.   \n",
              "\n",
              "                                           statement  \n",
              "0     People typically does desire to smell violets.  \n",
              "1  Getting contract typically cause to make money...  \n",
              "2  Line can typically be used to move train along...  \n",
              "3      People typically desires drive boats for fun.  \n",
              "4    Poet can typically be used for creating poetry.  "
            ],
            "text/html": [
              "\n",
              "  <div id=\"df-6200677a-df6d-4656-aee8-9312b36f7809\">\n",
              "    <div class=\"colab-df-container\">\n",
              "      <div>\n",
              "<style scoped>\n",
              "    .dataframe tbody tr th:only-of-type {\n",
              "        vertical-align: middle;\n",
              "    }\n",
              "\n",
              "    .dataframe tbody tr th {\n",
              "        vertical-align: top;\n",
              "    }\n",
              "\n",
              "    .dataframe thead th {\n",
              "        text-align: right;\n",
              "    }\n",
              "</style>\n",
              "<table border=\"1\" class=\"dataframe\">\n",
              "  <thead>\n",
              "    <tr style=\"text-align: right;\">\n",
              "      <th></th>\n",
              "      <th>precondition</th>\n",
              "      <th>statement</th>\n",
              "    </tr>\n",
              "  </thead>\n",
              "  <tbody>\n",
              "    <tr>\n",
              "      <th>0</th>\n",
              "      <td>The people want to have a romantic and pleasan...</td>\n",
              "      <td>People typically does desire to smell violets.</td>\n",
              "    </tr>\n",
              "    <tr>\n",
              "      <th>1</th>\n",
              "      <td>The contract is to buy products from you.</td>\n",
              "      <td>Getting contract typically cause to make money...</td>\n",
              "    </tr>\n",
              "    <tr>\n",
              "      <th>2</th>\n",
              "      <td>Train station is closed.</td>\n",
              "      <td>Line can typically be used to move train along...</td>\n",
              "    </tr>\n",
              "    <tr>\n",
              "      <th>3</th>\n",
              "      <td>There is no water for driving the boats.</td>\n",
              "      <td>People typically desires drive boats for fun.</td>\n",
              "    </tr>\n",
              "    <tr>\n",
              "      <th>4</th>\n",
              "      <td>The poet is busy.</td>\n",
              "      <td>Poet can typically be used for creating poetry.</td>\n",
              "    </tr>\n",
              "  </tbody>\n",
              "</table>\n",
              "</div>\n",
              "      <button class=\"colab-df-convert\" onclick=\"convertToInteractive('df-6200677a-df6d-4656-aee8-9312b36f7809')\"\n",
              "              title=\"Convert this dataframe to an interactive table.\"\n",
              "              style=\"display:none;\">\n",
              "        \n",
              "  <svg xmlns=\"http://www.w3.org/2000/svg\" height=\"24px\"viewBox=\"0 0 24 24\"\n",
              "       width=\"24px\">\n",
              "    <path d=\"M0 0h24v24H0V0z\" fill=\"none\"/>\n",
              "    <path d=\"M18.56 5.44l.94 2.06.94-2.06 2.06-.94-2.06-.94-.94-2.06-.94 2.06-2.06.94zm-11 1L8.5 8.5l.94-2.06 2.06-.94-2.06-.94L8.5 2.5l-.94 2.06-2.06.94zm10 10l.94 2.06.94-2.06 2.06-.94-2.06-.94-.94-2.06-.94 2.06-2.06.94z\"/><path d=\"M17.41 7.96l-1.37-1.37c-.4-.4-.92-.59-1.43-.59-.52 0-1.04.2-1.43.59L10.3 9.45l-7.72 7.72c-.78.78-.78 2.05 0 2.83L4 21.41c.39.39.9.59 1.41.59.51 0 1.02-.2 1.41-.59l7.78-7.78 2.81-2.81c.8-.78.8-2.07 0-2.86zM5.41 20L4 18.59l7.72-7.72 1.47 1.35L5.41 20z\"/>\n",
              "  </svg>\n",
              "      </button>\n",
              "      \n",
              "  <style>\n",
              "    .colab-df-container {\n",
              "      display:flex;\n",
              "      flex-wrap:wrap;\n",
              "      gap: 12px;\n",
              "    }\n",
              "\n",
              "    .colab-df-convert {\n",
              "      background-color: #E8F0FE;\n",
              "      border: none;\n",
              "      border-radius: 50%;\n",
              "      cursor: pointer;\n",
              "      display: none;\n",
              "      fill: #1967D2;\n",
              "      height: 32px;\n",
              "      padding: 0 0 0 0;\n",
              "      width: 32px;\n",
              "    }\n",
              "\n",
              "    .colab-df-convert:hover {\n",
              "      background-color: #E2EBFA;\n",
              "      box-shadow: 0px 1px 2px rgba(60, 64, 67, 0.3), 0px 1px 3px 1px rgba(60, 64, 67, 0.15);\n",
              "      fill: #174EA6;\n",
              "    }\n",
              "\n",
              "    [theme=dark] .colab-df-convert {\n",
              "      background-color: #3B4455;\n",
              "      fill: #D2E3FC;\n",
              "    }\n",
              "\n",
              "    [theme=dark] .colab-df-convert:hover {\n",
              "      background-color: #434B5C;\n",
              "      box-shadow: 0px 1px 3px 1px rgba(0, 0, 0, 0.15);\n",
              "      filter: drop-shadow(0px 1px 2px rgba(0, 0, 0, 0.3));\n",
              "      fill: #FFFFFF;\n",
              "    }\n",
              "  </style>\n",
              "\n",
              "      <script>\n",
              "        const buttonEl =\n",
              "          document.querySelector('#df-6200677a-df6d-4656-aee8-9312b36f7809 button.colab-df-convert');\n",
              "        buttonEl.style.display =\n",
              "          google.colab.kernel.accessAllowed ? 'block' : 'none';\n",
              "\n",
              "        async function convertToInteractive(key) {\n",
              "          const element = document.querySelector('#df-6200677a-df6d-4656-aee8-9312b36f7809');\n",
              "          const dataTable =\n",
              "            await google.colab.kernel.invokeFunction('convertToInteractive',\n",
              "                                                     [key], {});\n",
              "          if (!dataTable) return;\n",
              "\n",
              "          const docLinkHtml = 'Like what you see? Visit the ' +\n",
              "            '<a target=\"_blank\" href=https://colab.research.google.com/notebooks/data_table.ipynb>data table notebook</a>'\n",
              "            + ' to learn more about interactive tables.';\n",
              "          element.innerHTML = '';\n",
              "          dataTable['output_type'] = 'display_data';\n",
              "          await google.colab.output.renderOutput(dataTable, element);\n",
              "          const docLink = document.createElement('div');\n",
              "          docLink.innerHTML = docLinkHtml;\n",
              "          element.appendChild(docLink);\n",
              "        }\n",
              "      </script>\n",
              "    </div>\n",
              "  </div>\n",
              "  "
            ]
          },
          "metadata": {},
          "execution_count": 42
        }
      ]
    },
    {
      "cell_type": "code",
      "source": [
        "!pip install --no-cache-dir transformers sentencepiece"
      ],
      "metadata": {
        "id": "chClcaL2x-63",
        "colab": {
          "base_uri": "https://localhost:8080/"
        },
        "outputId": "199a3851-cc1b-44a8-8d1b-079f236ac482"
      },
      "execution_count": 43,
      "outputs": [
        {
          "output_type": "stream",
          "name": "stdout",
          "text": [
            "Requirement already satisfied: transformers in /usr/local/lib/python3.7/dist-packages (4.18.0)\n",
            "Requirement already satisfied: sentencepiece in /usr/local/lib/python3.7/dist-packages (0.1.96)\n",
            "Requirement already satisfied: numpy>=1.17 in /usr/local/lib/python3.7/dist-packages (from transformers) (1.21.6)\n",
            "Requirement already satisfied: filelock in /usr/local/lib/python3.7/dist-packages (from transformers) (3.6.0)\n",
            "Requirement already satisfied: packaging>=20.0 in /usr/local/lib/python3.7/dist-packages (from transformers) (21.3)\n",
            "Requirement already satisfied: regex!=2019.12.17 in /usr/local/lib/python3.7/dist-packages (from transformers) (2019.12.20)\n",
            "Requirement already satisfied: pyyaml>=5.1 in /usr/local/lib/python3.7/dist-packages (from transformers) (6.0)\n",
            "Requirement already satisfied: sacremoses in /usr/local/lib/python3.7/dist-packages (from transformers) (0.0.49)\n",
            "Requirement already satisfied: requests in /usr/local/lib/python3.7/dist-packages (from transformers) (2.23.0)\n",
            "Requirement already satisfied: tokenizers!=0.11.3,<0.13,>=0.11.1 in /usr/local/lib/python3.7/dist-packages (from transformers) (0.12.1)\n",
            "Requirement already satisfied: importlib-metadata in /usr/local/lib/python3.7/dist-packages (from transformers) (4.11.3)\n",
            "Requirement already satisfied: tqdm>=4.27 in /usr/local/lib/python3.7/dist-packages (from transformers) (4.64.0)\n",
            "Requirement already satisfied: huggingface-hub<1.0,>=0.1.0 in /usr/local/lib/python3.7/dist-packages (from transformers) (0.5.1)\n",
            "Requirement already satisfied: typing-extensions>=3.7.4.3 in /usr/local/lib/python3.7/dist-packages (from huggingface-hub<1.0,>=0.1.0->transformers) (4.1.1)\n",
            "Requirement already satisfied: pyparsing!=3.0.5,>=2.0.2 in /usr/local/lib/python3.7/dist-packages (from packaging>=20.0->transformers) (3.0.8)\n",
            "Requirement already satisfied: zipp>=0.5 in /usr/local/lib/python3.7/dist-packages (from importlib-metadata->transformers) (3.8.0)\n",
            "Requirement already satisfied: idna<3,>=2.5 in /usr/local/lib/python3.7/dist-packages (from requests->transformers) (2.10)\n",
            "Requirement already satisfied: urllib3!=1.25.0,!=1.25.1,<1.26,>=1.21.1 in /usr/local/lib/python3.7/dist-packages (from requests->transformers) (1.24.3)\n",
            "Requirement already satisfied: certifi>=2017.4.17 in /usr/local/lib/python3.7/dist-packages (from requests->transformers) (2021.10.8)\n",
            "Requirement already satisfied: chardet<4,>=3.0.2 in /usr/local/lib/python3.7/dist-packages (from requests->transformers) (3.0.4)\n",
            "Requirement already satisfied: six in /usr/local/lib/python3.7/dist-packages (from sacremoses->transformers) (1.15.0)\n",
            "Requirement already satisfied: click in /usr/local/lib/python3.7/dist-packages (from sacremoses->transformers) (7.1.2)\n",
            "Requirement already satisfied: joblib in /usr/local/lib/python3.7/dist-packages (from sacremoses->transformers) (1.1.0)\n"
          ]
        }
      ]
    },
    {
      "cell_type": "code",
      "source": [
        "from transformers import BertTokenizer,TFBertModel,TFAutoModel,AutoTokenizer\n",
        "tokenizer=AutoTokenizer.from_pretrained(\"ynie/roberta-large-snli_mnli_fever_anli_R1_R2_R3-nli\",from_pt=True)#use_fast=False)"
      ],
      "metadata": {
        "id": "xkbRS1AWsVrV"
      },
      "execution_count": 44,
      "outputs": []
    },
    {
      "cell_type": "code",
      "source": [
        "def encoding_precondition(data):\n",
        "    tokens_list=list()\n",
        "    tokens_list.append('[CLS]')\n",
        "    tokens_list+=list(tokenizer.tokenize(data))\n",
        "    return(tokenizer.convert_tokens_to_ids(tokens_list))\n",
        "def encode_statement(data):\n",
        "    tokens_list=list()\n",
        "    tokens_list.append('[sep]')\n",
        "    tokens_list+=list(tokenizer.tokenize(data))\n",
        "    tokens_list.append('[sep]')\n",
        "    return(tokenizer.convert_tokens_to_ids(tokens_list))\n",
        "tokenized=[]\n",
        "for i in range(len(train_data)):\n",
        "    pre=encoding_precondition(train_data['precondition'][i])\n",
        "    st=encode_statement(train_data['statement'][i])\n",
        "    tokenized.append(pre+st)\n",
        "train_data['tokenized']=tokenized\n",
        "train_data.head()"
      ],
      "metadata": {
        "colab": {
          "base_uri": "https://localhost:8080/",
          "height": 206
        },
        "id": "xxi-J22q1NVv",
        "outputId": "22546410-7a4e-4842-b579-5b0a0f206f01"
      },
      "execution_count": 45,
      "outputs": [
        {
          "output_type": "execute_result",
          "data": {
            "text/plain": [
              "                                        precondition  \\\n",
              "0                             Sometimes do exercise.   \n",
              "1                               Who eats junk foods.   \n",
              "2                                  A person is sick.   \n",
              "3                                  A person is dead.   \n",
              "4  A person eats properly and do exercise regularly.   \n",
              "\n",
              "                                 statement  labels  \\\n",
              "0  A person typically desire healthy life.       1   \n",
              "1  A person typically desire healthy life.       0   \n",
              "2  A person typically desire healthy life.       1   \n",
              "3  A person typically desire healthy life.       0   \n",
              "4  A person typically desire healthy life.       1   \n",
              "\n",
              "                                           tokenized  \n",
              "0  [3, 13624, 109, 3325, 4, 3, 250, 621, 3700, 47...  \n",
              "1  [3, 12375, 24923, 15163, 6592, 4, 3, 250, 621,...  \n",
              "2  [3, 250, 621, 16, 4736, 4, 3, 250, 621, 3700, ...  \n",
              "3  [3, 250, 621, 16, 1462, 4, 3, 250, 621, 3700, ...  \n",
              "4  [3, 250, 621, 24923, 5083, 8, 109, 3325, 4595,...  "
            ],
            "text/html": [
              "\n",
              "  <div id=\"df-b2dfa36e-2f35-4036-abdc-d8a016ab0a2d\">\n",
              "    <div class=\"colab-df-container\">\n",
              "      <div>\n",
              "<style scoped>\n",
              "    .dataframe tbody tr th:only-of-type {\n",
              "        vertical-align: middle;\n",
              "    }\n",
              "\n",
              "    .dataframe tbody tr th {\n",
              "        vertical-align: top;\n",
              "    }\n",
              "\n",
              "    .dataframe thead th {\n",
              "        text-align: right;\n",
              "    }\n",
              "</style>\n",
              "<table border=\"1\" class=\"dataframe\">\n",
              "  <thead>\n",
              "    <tr style=\"text-align: right;\">\n",
              "      <th></th>\n",
              "      <th>precondition</th>\n",
              "      <th>statement</th>\n",
              "      <th>labels</th>\n",
              "      <th>tokenized</th>\n",
              "    </tr>\n",
              "  </thead>\n",
              "  <tbody>\n",
              "    <tr>\n",
              "      <th>0</th>\n",
              "      <td>Sometimes do exercise.</td>\n",
              "      <td>A person typically desire healthy life.</td>\n",
              "      <td>1</td>\n",
              "      <td>[3, 13624, 109, 3325, 4, 3, 250, 621, 3700, 47...</td>\n",
              "    </tr>\n",
              "    <tr>\n",
              "      <th>1</th>\n",
              "      <td>Who eats junk foods.</td>\n",
              "      <td>A person typically desire healthy life.</td>\n",
              "      <td>0</td>\n",
              "      <td>[3, 12375, 24923, 15163, 6592, 4, 3, 250, 621,...</td>\n",
              "    </tr>\n",
              "    <tr>\n",
              "      <th>2</th>\n",
              "      <td>A person is sick.</td>\n",
              "      <td>A person typically desire healthy life.</td>\n",
              "      <td>1</td>\n",
              "      <td>[3, 250, 621, 16, 4736, 4, 3, 250, 621, 3700, ...</td>\n",
              "    </tr>\n",
              "    <tr>\n",
              "      <th>3</th>\n",
              "      <td>A person is dead.</td>\n",
              "      <td>A person typically desire healthy life.</td>\n",
              "      <td>0</td>\n",
              "      <td>[3, 250, 621, 16, 1462, 4, 3, 250, 621, 3700, ...</td>\n",
              "    </tr>\n",
              "    <tr>\n",
              "      <th>4</th>\n",
              "      <td>A person eats properly and do exercise regularly.</td>\n",
              "      <td>A person typically desire healthy life.</td>\n",
              "      <td>1</td>\n",
              "      <td>[3, 250, 621, 24923, 5083, 8, 109, 3325, 4595,...</td>\n",
              "    </tr>\n",
              "  </tbody>\n",
              "</table>\n",
              "</div>\n",
              "      <button class=\"colab-df-convert\" onclick=\"convertToInteractive('df-b2dfa36e-2f35-4036-abdc-d8a016ab0a2d')\"\n",
              "              title=\"Convert this dataframe to an interactive table.\"\n",
              "              style=\"display:none;\">\n",
              "        \n",
              "  <svg xmlns=\"http://www.w3.org/2000/svg\" height=\"24px\"viewBox=\"0 0 24 24\"\n",
              "       width=\"24px\">\n",
              "    <path d=\"M0 0h24v24H0V0z\" fill=\"none\"/>\n",
              "    <path d=\"M18.56 5.44l.94 2.06.94-2.06 2.06-.94-2.06-.94-.94-2.06-.94 2.06-2.06.94zm-11 1L8.5 8.5l.94-2.06 2.06-.94-2.06-.94L8.5 2.5l-.94 2.06-2.06.94zm10 10l.94 2.06.94-2.06 2.06-.94-2.06-.94-.94-2.06-.94 2.06-2.06.94z\"/><path d=\"M17.41 7.96l-1.37-1.37c-.4-.4-.92-.59-1.43-.59-.52 0-1.04.2-1.43.59L10.3 9.45l-7.72 7.72c-.78.78-.78 2.05 0 2.83L4 21.41c.39.39.9.59 1.41.59.51 0 1.02-.2 1.41-.59l7.78-7.78 2.81-2.81c.8-.78.8-2.07 0-2.86zM5.41 20L4 18.59l7.72-7.72 1.47 1.35L5.41 20z\"/>\n",
              "  </svg>\n",
              "      </button>\n",
              "      \n",
              "  <style>\n",
              "    .colab-df-container {\n",
              "      display:flex;\n",
              "      flex-wrap:wrap;\n",
              "      gap: 12px;\n",
              "    }\n",
              "\n",
              "    .colab-df-convert {\n",
              "      background-color: #E8F0FE;\n",
              "      border: none;\n",
              "      border-radius: 50%;\n",
              "      cursor: pointer;\n",
              "      display: none;\n",
              "      fill: #1967D2;\n",
              "      height: 32px;\n",
              "      padding: 0 0 0 0;\n",
              "      width: 32px;\n",
              "    }\n",
              "\n",
              "    .colab-df-convert:hover {\n",
              "      background-color: #E2EBFA;\n",
              "      box-shadow: 0px 1px 2px rgba(60, 64, 67, 0.3), 0px 1px 3px 1px rgba(60, 64, 67, 0.15);\n",
              "      fill: #174EA6;\n",
              "    }\n",
              "\n",
              "    [theme=dark] .colab-df-convert {\n",
              "      background-color: #3B4455;\n",
              "      fill: #D2E3FC;\n",
              "    }\n",
              "\n",
              "    [theme=dark] .colab-df-convert:hover {\n",
              "      background-color: #434B5C;\n",
              "      box-shadow: 0px 1px 3px 1px rgba(0, 0, 0, 0.15);\n",
              "      filter: drop-shadow(0px 1px 2px rgba(0, 0, 0, 0.3));\n",
              "      fill: #FFFFFF;\n",
              "    }\n",
              "  </style>\n",
              "\n",
              "      <script>\n",
              "        const buttonEl =\n",
              "          document.querySelector('#df-b2dfa36e-2f35-4036-abdc-d8a016ab0a2d button.colab-df-convert');\n",
              "        buttonEl.style.display =\n",
              "          google.colab.kernel.accessAllowed ? 'block' : 'none';\n",
              "\n",
              "        async function convertToInteractive(key) {\n",
              "          const element = document.querySelector('#df-b2dfa36e-2f35-4036-abdc-d8a016ab0a2d');\n",
              "          const dataTable =\n",
              "            await google.colab.kernel.invokeFunction('convertToInteractive',\n",
              "                                                     [key], {});\n",
              "          if (!dataTable) return;\n",
              "\n",
              "          const docLinkHtml = 'Like what you see? Visit the ' +\n",
              "            '<a target=\"_blank\" href=https://colab.research.google.com/notebooks/data_table.ipynb>data table notebook</a>'\n",
              "            + ' to learn more about interactive tables.';\n",
              "          element.innerHTML = '';\n",
              "          dataTable['output_type'] = 'display_data';\n",
              "          await google.colab.output.renderOutput(dataTable, element);\n",
              "          const docLink = document.createElement('div');\n",
              "          docLink.innerHTML = docLinkHtml;\n",
              "          element.appendChild(docLink);\n",
              "        }\n",
              "      </script>\n",
              "    </div>\n",
              "  </div>\n",
              "  "
            ]
          },
          "metadata": {},
          "execution_count": 45
        }
      ]
    },
    {
      "cell_type": "code",
      "source": [
        "tokenized_dev=[]\n",
        "for i in range(len(dev_data)):\n",
        "    pre=encoding_precondition(dev_data['precondition'][i])\n",
        "    st=encode_statement(dev_data['statement'][i])\n",
        "    tokenized_dev.append(pre+st)\n",
        "dev_data['tokenized']=tokenized_dev\n",
        "dev_data.head()"
      ],
      "metadata": {
        "colab": {
          "base_uri": "https://localhost:8080/",
          "height": 206
        },
        "id": "6zrMeSTtY-yQ",
        "outputId": "6a858791-bd88-4b39-9072-8f7fee7f9c64"
      },
      "execution_count": 46,
      "outputs": [
        {
          "output_type": "execute_result",
          "data": {
            "text/plain": [
              "                                precondition  \\\n",
              "0          A person is looking for accuracy.   \n",
              "1       A person does not care for accuracy.   \n",
              "2       The person double checks their data.   \n",
              "3  The person speeds through the experiment.   \n",
              "4                 A person is studying well.   \n",
              "\n",
              "                                      statement  labels  \\\n",
              "0  A person typically desires accurate results.       1   \n",
              "1  A person typically desires accurate results.       0   \n",
              "2  A person typically desires accurate results.       1   \n",
              "3  A person typically desires accurate results.       0   \n",
              "4  A person typically desires accurate results.       1   \n",
              "\n",
              "                                           tokenized  \n",
              "0  [3, 250, 621, 16, 546, 13, 8611, 4, 3, 250, 62...  \n",
              "1  [3, 250, 621, 473, 45, 575, 13, 8611, 4, 3, 25...  \n",
              "2  [3, 133, 621, 1457, 6240, 49, 414, 4, 3, 250, ...  \n",
              "3  [3, 133, 621, 9706, 149, 5, 9280, 4, 3, 250, 6...  \n",
              "4  [3, 250, 621, 16, 7739, 157, 4, 3, 250, 621, 3...  "
            ],
            "text/html": [
              "\n",
              "  <div id=\"df-e6eaa689-5d05-44e2-9e6d-32644b2f5669\">\n",
              "    <div class=\"colab-df-container\">\n",
              "      <div>\n",
              "<style scoped>\n",
              "    .dataframe tbody tr th:only-of-type {\n",
              "        vertical-align: middle;\n",
              "    }\n",
              "\n",
              "    .dataframe tbody tr th {\n",
              "        vertical-align: top;\n",
              "    }\n",
              "\n",
              "    .dataframe thead th {\n",
              "        text-align: right;\n",
              "    }\n",
              "</style>\n",
              "<table border=\"1\" class=\"dataframe\">\n",
              "  <thead>\n",
              "    <tr style=\"text-align: right;\">\n",
              "      <th></th>\n",
              "      <th>precondition</th>\n",
              "      <th>statement</th>\n",
              "      <th>labels</th>\n",
              "      <th>tokenized</th>\n",
              "    </tr>\n",
              "  </thead>\n",
              "  <tbody>\n",
              "    <tr>\n",
              "      <th>0</th>\n",
              "      <td>A person is looking for accuracy.</td>\n",
              "      <td>A person typically desires accurate results.</td>\n",
              "      <td>1</td>\n",
              "      <td>[3, 250, 621, 16, 546, 13, 8611, 4, 3, 250, 62...</td>\n",
              "    </tr>\n",
              "    <tr>\n",
              "      <th>1</th>\n",
              "      <td>A person does not care for accuracy.</td>\n",
              "      <td>A person typically desires accurate results.</td>\n",
              "      <td>0</td>\n",
              "      <td>[3, 250, 621, 473, 45, 575, 13, 8611, 4, 3, 25...</td>\n",
              "    </tr>\n",
              "    <tr>\n",
              "      <th>2</th>\n",
              "      <td>The person double checks their data.</td>\n",
              "      <td>A person typically desires accurate results.</td>\n",
              "      <td>1</td>\n",
              "      <td>[3, 133, 621, 1457, 6240, 49, 414, 4, 3, 250, ...</td>\n",
              "    </tr>\n",
              "    <tr>\n",
              "      <th>3</th>\n",
              "      <td>The person speeds through the experiment.</td>\n",
              "      <td>A person typically desires accurate results.</td>\n",
              "      <td>0</td>\n",
              "      <td>[3, 133, 621, 9706, 149, 5, 9280, 4, 3, 250, 6...</td>\n",
              "    </tr>\n",
              "    <tr>\n",
              "      <th>4</th>\n",
              "      <td>A person is studying well.</td>\n",
              "      <td>A person typically desires accurate results.</td>\n",
              "      <td>1</td>\n",
              "      <td>[3, 250, 621, 16, 7739, 157, 4, 3, 250, 621, 3...</td>\n",
              "    </tr>\n",
              "  </tbody>\n",
              "</table>\n",
              "</div>\n",
              "      <button class=\"colab-df-convert\" onclick=\"convertToInteractive('df-e6eaa689-5d05-44e2-9e6d-32644b2f5669')\"\n",
              "              title=\"Convert this dataframe to an interactive table.\"\n",
              "              style=\"display:none;\">\n",
              "        \n",
              "  <svg xmlns=\"http://www.w3.org/2000/svg\" height=\"24px\"viewBox=\"0 0 24 24\"\n",
              "       width=\"24px\">\n",
              "    <path d=\"M0 0h24v24H0V0z\" fill=\"none\"/>\n",
              "    <path d=\"M18.56 5.44l.94 2.06.94-2.06 2.06-.94-2.06-.94-.94-2.06-.94 2.06-2.06.94zm-11 1L8.5 8.5l.94-2.06 2.06-.94-2.06-.94L8.5 2.5l-.94 2.06-2.06.94zm10 10l.94 2.06.94-2.06 2.06-.94-2.06-.94-.94-2.06-.94 2.06-2.06.94z\"/><path d=\"M17.41 7.96l-1.37-1.37c-.4-.4-.92-.59-1.43-.59-.52 0-1.04.2-1.43.59L10.3 9.45l-7.72 7.72c-.78.78-.78 2.05 0 2.83L4 21.41c.39.39.9.59 1.41.59.51 0 1.02-.2 1.41-.59l7.78-7.78 2.81-2.81c.8-.78.8-2.07 0-2.86zM5.41 20L4 18.59l7.72-7.72 1.47 1.35L5.41 20z\"/>\n",
              "  </svg>\n",
              "      </button>\n",
              "      \n",
              "  <style>\n",
              "    .colab-df-container {\n",
              "      display:flex;\n",
              "      flex-wrap:wrap;\n",
              "      gap: 12px;\n",
              "    }\n",
              "\n",
              "    .colab-df-convert {\n",
              "      background-color: #E8F0FE;\n",
              "      border: none;\n",
              "      border-radius: 50%;\n",
              "      cursor: pointer;\n",
              "      display: none;\n",
              "      fill: #1967D2;\n",
              "      height: 32px;\n",
              "      padding: 0 0 0 0;\n",
              "      width: 32px;\n",
              "    }\n",
              "\n",
              "    .colab-df-convert:hover {\n",
              "      background-color: #E2EBFA;\n",
              "      box-shadow: 0px 1px 2px rgba(60, 64, 67, 0.3), 0px 1px 3px 1px rgba(60, 64, 67, 0.15);\n",
              "      fill: #174EA6;\n",
              "    }\n",
              "\n",
              "    [theme=dark] .colab-df-convert {\n",
              "      background-color: #3B4455;\n",
              "      fill: #D2E3FC;\n",
              "    }\n",
              "\n",
              "    [theme=dark] .colab-df-convert:hover {\n",
              "      background-color: #434B5C;\n",
              "      box-shadow: 0px 1px 3px 1px rgba(0, 0, 0, 0.15);\n",
              "      filter: drop-shadow(0px 1px 2px rgba(0, 0, 0, 0.3));\n",
              "      fill: #FFFFFF;\n",
              "    }\n",
              "  </style>\n",
              "\n",
              "      <script>\n",
              "        const buttonEl =\n",
              "          document.querySelector('#df-e6eaa689-5d05-44e2-9e6d-32644b2f5669 button.colab-df-convert');\n",
              "        buttonEl.style.display =\n",
              "          google.colab.kernel.accessAllowed ? 'block' : 'none';\n",
              "\n",
              "        async function convertToInteractive(key) {\n",
              "          const element = document.querySelector('#df-e6eaa689-5d05-44e2-9e6d-32644b2f5669');\n",
              "          const dataTable =\n",
              "            await google.colab.kernel.invokeFunction('convertToInteractive',\n",
              "                                                     [key], {});\n",
              "          if (!dataTable) return;\n",
              "\n",
              "          const docLinkHtml = 'Like what you see? Visit the ' +\n",
              "            '<a target=\"_blank\" href=https://colab.research.google.com/notebooks/data_table.ipynb>data table notebook</a>'\n",
              "            + ' to learn more about interactive tables.';\n",
              "          element.innerHTML = '';\n",
              "          dataTable['output_type'] = 'display_data';\n",
              "          await google.colab.output.renderOutput(dataTable, element);\n",
              "          const docLink = document.createElement('div');\n",
              "          docLink.innerHTML = docLinkHtml;\n",
              "          element.appendChild(docLink);\n",
              "        }\n",
              "      </script>\n",
              "    </div>\n",
              "  </div>\n",
              "  "
            ]
          },
          "metadata": {},
          "execution_count": 46
        }
      ]
    },
    {
      "cell_type": "code",
      "source": [
        "mask_data_train=[]\n",
        "mask_data_dev=[]\n",
        "for i in range(len(train_data)):\n",
        "    padded_seq=tokenizer(train_data['precondition'][i],train_data['statement'][i],padding=True,add_special_tokens=True)\n",
        "    mask_data_train.append(padded_seq)\n",
        "for i in range(len(dev_data)):\n",
        "    padded_seq_dev=tokenizer(dev_data['precondition'][i],dev_data['statement'][i],padding=True,add_special_tokens=True)\n",
        "    mask_data_dev.append(padded_seq_dev)"
      ],
      "metadata": {
        "id": "RAB-t2Et1l6S"
      },
      "execution_count": 47,
      "outputs": []
    },
    {
      "cell_type": "code",
      "source": [
        "df_train=train_data\n",
        "df_train['masked']=mask_data_train\n",
        "df_train.head(5)"
      ],
      "metadata": {
        "colab": {
          "base_uri": "https://localhost:8080/",
          "height": 206
        },
        "id": "WvbK0u00Zss9",
        "outputId": "a3e4f64b-62f0-4647-9080-bd0410e0b388"
      },
      "execution_count": 48,
      "outputs": [
        {
          "output_type": "execute_result",
          "data": {
            "text/plain": [
              "                                        precondition  \\\n",
              "0                             Sometimes do exercise.   \n",
              "1                               Who eats junk foods.   \n",
              "2                                  A person is sick.   \n",
              "3                                  A person is dead.   \n",
              "4  A person eats properly and do exercise regularly.   \n",
              "\n",
              "                                 statement  labels  \\\n",
              "0  A person typically desire healthy life.       1   \n",
              "1  A person typically desire healthy life.       0   \n",
              "2  A person typically desire healthy life.       1   \n",
              "3  A person typically desire healthy life.       0   \n",
              "4  A person typically desire healthy life.       1   \n",
              "\n",
              "                                           tokenized  \\\n",
              "0  [3, 13624, 109, 3325, 4, 3, 250, 621, 3700, 47...   \n",
              "1  [3, 12375, 24923, 15163, 6592, 4, 3, 250, 621,...   \n",
              "2  [3, 250, 621, 16, 4736, 4, 3, 250, 621, 3700, ...   \n",
              "3  [3, 250, 621, 16, 1462, 4, 3, 250, 621, 3700, ...   \n",
              "4  [3, 250, 621, 24923, 5083, 8, 109, 3325, 4595,...   \n",
              "\n",
              "                        masked  \n",
              "0  [input_ids, attention_mask]  \n",
              "1  [input_ids, attention_mask]  \n",
              "2  [input_ids, attention_mask]  \n",
              "3  [input_ids, attention_mask]  \n",
              "4  [input_ids, attention_mask]  "
            ],
            "text/html": [
              "\n",
              "  <div id=\"df-82df96a6-08a4-43a2-a082-60d835f940c7\">\n",
              "    <div class=\"colab-df-container\">\n",
              "      <div>\n",
              "<style scoped>\n",
              "    .dataframe tbody tr th:only-of-type {\n",
              "        vertical-align: middle;\n",
              "    }\n",
              "\n",
              "    .dataframe tbody tr th {\n",
              "        vertical-align: top;\n",
              "    }\n",
              "\n",
              "    .dataframe thead th {\n",
              "        text-align: right;\n",
              "    }\n",
              "</style>\n",
              "<table border=\"1\" class=\"dataframe\">\n",
              "  <thead>\n",
              "    <tr style=\"text-align: right;\">\n",
              "      <th></th>\n",
              "      <th>precondition</th>\n",
              "      <th>statement</th>\n",
              "      <th>labels</th>\n",
              "      <th>tokenized</th>\n",
              "      <th>masked</th>\n",
              "    </tr>\n",
              "  </thead>\n",
              "  <tbody>\n",
              "    <tr>\n",
              "      <th>0</th>\n",
              "      <td>Sometimes do exercise.</td>\n",
              "      <td>A person typically desire healthy life.</td>\n",
              "      <td>1</td>\n",
              "      <td>[3, 13624, 109, 3325, 4, 3, 250, 621, 3700, 47...</td>\n",
              "      <td>[input_ids, attention_mask]</td>\n",
              "    </tr>\n",
              "    <tr>\n",
              "      <th>1</th>\n",
              "      <td>Who eats junk foods.</td>\n",
              "      <td>A person typically desire healthy life.</td>\n",
              "      <td>0</td>\n",
              "      <td>[3, 12375, 24923, 15163, 6592, 4, 3, 250, 621,...</td>\n",
              "      <td>[input_ids, attention_mask]</td>\n",
              "    </tr>\n",
              "    <tr>\n",
              "      <th>2</th>\n",
              "      <td>A person is sick.</td>\n",
              "      <td>A person typically desire healthy life.</td>\n",
              "      <td>1</td>\n",
              "      <td>[3, 250, 621, 16, 4736, 4, 3, 250, 621, 3700, ...</td>\n",
              "      <td>[input_ids, attention_mask]</td>\n",
              "    </tr>\n",
              "    <tr>\n",
              "      <th>3</th>\n",
              "      <td>A person is dead.</td>\n",
              "      <td>A person typically desire healthy life.</td>\n",
              "      <td>0</td>\n",
              "      <td>[3, 250, 621, 16, 1462, 4, 3, 250, 621, 3700, ...</td>\n",
              "      <td>[input_ids, attention_mask]</td>\n",
              "    </tr>\n",
              "    <tr>\n",
              "      <th>4</th>\n",
              "      <td>A person eats properly and do exercise regularly.</td>\n",
              "      <td>A person typically desire healthy life.</td>\n",
              "      <td>1</td>\n",
              "      <td>[3, 250, 621, 24923, 5083, 8, 109, 3325, 4595,...</td>\n",
              "      <td>[input_ids, attention_mask]</td>\n",
              "    </tr>\n",
              "  </tbody>\n",
              "</table>\n",
              "</div>\n",
              "      <button class=\"colab-df-convert\" onclick=\"convertToInteractive('df-82df96a6-08a4-43a2-a082-60d835f940c7')\"\n",
              "              title=\"Convert this dataframe to an interactive table.\"\n",
              "              style=\"display:none;\">\n",
              "        \n",
              "  <svg xmlns=\"http://www.w3.org/2000/svg\" height=\"24px\"viewBox=\"0 0 24 24\"\n",
              "       width=\"24px\">\n",
              "    <path d=\"M0 0h24v24H0V0z\" fill=\"none\"/>\n",
              "    <path d=\"M18.56 5.44l.94 2.06.94-2.06 2.06-.94-2.06-.94-.94-2.06-.94 2.06-2.06.94zm-11 1L8.5 8.5l.94-2.06 2.06-.94-2.06-.94L8.5 2.5l-.94 2.06-2.06.94zm10 10l.94 2.06.94-2.06 2.06-.94-2.06-.94-.94-2.06-.94 2.06-2.06.94z\"/><path d=\"M17.41 7.96l-1.37-1.37c-.4-.4-.92-.59-1.43-.59-.52 0-1.04.2-1.43.59L10.3 9.45l-7.72 7.72c-.78.78-.78 2.05 0 2.83L4 21.41c.39.39.9.59 1.41.59.51 0 1.02-.2 1.41-.59l7.78-7.78 2.81-2.81c.8-.78.8-2.07 0-2.86zM5.41 20L4 18.59l7.72-7.72 1.47 1.35L5.41 20z\"/>\n",
              "  </svg>\n",
              "      </button>\n",
              "      \n",
              "  <style>\n",
              "    .colab-df-container {\n",
              "      display:flex;\n",
              "      flex-wrap:wrap;\n",
              "      gap: 12px;\n",
              "    }\n",
              "\n",
              "    .colab-df-convert {\n",
              "      background-color: #E8F0FE;\n",
              "      border: none;\n",
              "      border-radius: 50%;\n",
              "      cursor: pointer;\n",
              "      display: none;\n",
              "      fill: #1967D2;\n",
              "      height: 32px;\n",
              "      padding: 0 0 0 0;\n",
              "      width: 32px;\n",
              "    }\n",
              "\n",
              "    .colab-df-convert:hover {\n",
              "      background-color: #E2EBFA;\n",
              "      box-shadow: 0px 1px 2px rgba(60, 64, 67, 0.3), 0px 1px 3px 1px rgba(60, 64, 67, 0.15);\n",
              "      fill: #174EA6;\n",
              "    }\n",
              "\n",
              "    [theme=dark] .colab-df-convert {\n",
              "      background-color: #3B4455;\n",
              "      fill: #D2E3FC;\n",
              "    }\n",
              "\n",
              "    [theme=dark] .colab-df-convert:hover {\n",
              "      background-color: #434B5C;\n",
              "      box-shadow: 0px 1px 3px 1px rgba(0, 0, 0, 0.15);\n",
              "      filter: drop-shadow(0px 1px 2px rgba(0, 0, 0, 0.3));\n",
              "      fill: #FFFFFF;\n",
              "    }\n",
              "  </style>\n",
              "\n",
              "      <script>\n",
              "        const buttonEl =\n",
              "          document.querySelector('#df-82df96a6-08a4-43a2-a082-60d835f940c7 button.colab-df-convert');\n",
              "        buttonEl.style.display =\n",
              "          google.colab.kernel.accessAllowed ? 'block' : 'none';\n",
              "\n",
              "        async function convertToInteractive(key) {\n",
              "          const element = document.querySelector('#df-82df96a6-08a4-43a2-a082-60d835f940c7');\n",
              "          const dataTable =\n",
              "            await google.colab.kernel.invokeFunction('convertToInteractive',\n",
              "                                                     [key], {});\n",
              "          if (!dataTable) return;\n",
              "\n",
              "          const docLinkHtml = 'Like what you see? Visit the ' +\n",
              "            '<a target=\"_blank\" href=https://colab.research.google.com/notebooks/data_table.ipynb>data table notebook</a>'\n",
              "            + ' to learn more about interactive tables.';\n",
              "          element.innerHTML = '';\n",
              "          dataTable['output_type'] = 'display_data';\n",
              "          await google.colab.output.renderOutput(dataTable, element);\n",
              "          const docLink = document.createElement('div');\n",
              "          docLink.innerHTML = docLinkHtml;\n",
              "          element.appendChild(docLink);\n",
              "        }\n",
              "      </script>\n",
              "    </div>\n",
              "  </div>\n",
              "  "
            ]
          },
          "metadata": {},
          "execution_count": 48
        }
      ]
    },
    {
      "cell_type": "code",
      "source": [
        "df_dev=dev_data\n",
        "df_dev['masked']=mask_data_dev\n",
        "df_dev.head(5)"
      ],
      "metadata": {
        "colab": {
          "base_uri": "https://localhost:8080/",
          "height": 206
        },
        "id": "HWmTru9l1w1v",
        "outputId": "ab74f953-5b3c-4ce3-ce3e-1134ac0621e1"
      },
      "execution_count": 49,
      "outputs": [
        {
          "output_type": "execute_result",
          "data": {
            "text/plain": [
              "                                precondition  \\\n",
              "0          A person is looking for accuracy.   \n",
              "1       A person does not care for accuracy.   \n",
              "2       The person double checks their data.   \n",
              "3  The person speeds through the experiment.   \n",
              "4                 A person is studying well.   \n",
              "\n",
              "                                      statement  labels  \\\n",
              "0  A person typically desires accurate results.       1   \n",
              "1  A person typically desires accurate results.       0   \n",
              "2  A person typically desires accurate results.       1   \n",
              "3  A person typically desires accurate results.       0   \n",
              "4  A person typically desires accurate results.       1   \n",
              "\n",
              "                                           tokenized  \\\n",
              "0  [3, 250, 621, 16, 546, 13, 8611, 4, 3, 250, 62...   \n",
              "1  [3, 250, 621, 473, 45, 575, 13, 8611, 4, 3, 25...   \n",
              "2  [3, 133, 621, 1457, 6240, 49, 414, 4, 3, 250, ...   \n",
              "3  [3, 133, 621, 9706, 149, 5, 9280, 4, 3, 250, 6...   \n",
              "4  [3, 250, 621, 16, 7739, 157, 4, 3, 250, 621, 3...   \n",
              "\n",
              "                        masked  \n",
              "0  [input_ids, attention_mask]  \n",
              "1  [input_ids, attention_mask]  \n",
              "2  [input_ids, attention_mask]  \n",
              "3  [input_ids, attention_mask]  \n",
              "4  [input_ids, attention_mask]  "
            ],
            "text/html": [
              "\n",
              "  <div id=\"df-81350287-4a1f-41d8-923e-f4f2dcebf123\">\n",
              "    <div class=\"colab-df-container\">\n",
              "      <div>\n",
              "<style scoped>\n",
              "    .dataframe tbody tr th:only-of-type {\n",
              "        vertical-align: middle;\n",
              "    }\n",
              "\n",
              "    .dataframe tbody tr th {\n",
              "        vertical-align: top;\n",
              "    }\n",
              "\n",
              "    .dataframe thead th {\n",
              "        text-align: right;\n",
              "    }\n",
              "</style>\n",
              "<table border=\"1\" class=\"dataframe\">\n",
              "  <thead>\n",
              "    <tr style=\"text-align: right;\">\n",
              "      <th></th>\n",
              "      <th>precondition</th>\n",
              "      <th>statement</th>\n",
              "      <th>labels</th>\n",
              "      <th>tokenized</th>\n",
              "      <th>masked</th>\n",
              "    </tr>\n",
              "  </thead>\n",
              "  <tbody>\n",
              "    <tr>\n",
              "      <th>0</th>\n",
              "      <td>A person is looking for accuracy.</td>\n",
              "      <td>A person typically desires accurate results.</td>\n",
              "      <td>1</td>\n",
              "      <td>[3, 250, 621, 16, 546, 13, 8611, 4, 3, 250, 62...</td>\n",
              "      <td>[input_ids, attention_mask]</td>\n",
              "    </tr>\n",
              "    <tr>\n",
              "      <th>1</th>\n",
              "      <td>A person does not care for accuracy.</td>\n",
              "      <td>A person typically desires accurate results.</td>\n",
              "      <td>0</td>\n",
              "      <td>[3, 250, 621, 473, 45, 575, 13, 8611, 4, 3, 25...</td>\n",
              "      <td>[input_ids, attention_mask]</td>\n",
              "    </tr>\n",
              "    <tr>\n",
              "      <th>2</th>\n",
              "      <td>The person double checks their data.</td>\n",
              "      <td>A person typically desires accurate results.</td>\n",
              "      <td>1</td>\n",
              "      <td>[3, 133, 621, 1457, 6240, 49, 414, 4, 3, 250, ...</td>\n",
              "      <td>[input_ids, attention_mask]</td>\n",
              "    </tr>\n",
              "    <tr>\n",
              "      <th>3</th>\n",
              "      <td>The person speeds through the experiment.</td>\n",
              "      <td>A person typically desires accurate results.</td>\n",
              "      <td>0</td>\n",
              "      <td>[3, 133, 621, 9706, 149, 5, 9280, 4, 3, 250, 6...</td>\n",
              "      <td>[input_ids, attention_mask]</td>\n",
              "    </tr>\n",
              "    <tr>\n",
              "      <th>4</th>\n",
              "      <td>A person is studying well.</td>\n",
              "      <td>A person typically desires accurate results.</td>\n",
              "      <td>1</td>\n",
              "      <td>[3, 250, 621, 16, 7739, 157, 4, 3, 250, 621, 3...</td>\n",
              "      <td>[input_ids, attention_mask]</td>\n",
              "    </tr>\n",
              "  </tbody>\n",
              "</table>\n",
              "</div>\n",
              "      <button class=\"colab-df-convert\" onclick=\"convertToInteractive('df-81350287-4a1f-41d8-923e-f4f2dcebf123')\"\n",
              "              title=\"Convert this dataframe to an interactive table.\"\n",
              "              style=\"display:none;\">\n",
              "        \n",
              "  <svg xmlns=\"http://www.w3.org/2000/svg\" height=\"24px\"viewBox=\"0 0 24 24\"\n",
              "       width=\"24px\">\n",
              "    <path d=\"M0 0h24v24H0V0z\" fill=\"none\"/>\n",
              "    <path d=\"M18.56 5.44l.94 2.06.94-2.06 2.06-.94-2.06-.94-.94-2.06-.94 2.06-2.06.94zm-11 1L8.5 8.5l.94-2.06 2.06-.94-2.06-.94L8.5 2.5l-.94 2.06-2.06.94zm10 10l.94 2.06.94-2.06 2.06-.94-2.06-.94-.94-2.06-.94 2.06-2.06.94z\"/><path d=\"M17.41 7.96l-1.37-1.37c-.4-.4-.92-.59-1.43-.59-.52 0-1.04.2-1.43.59L10.3 9.45l-7.72 7.72c-.78.78-.78 2.05 0 2.83L4 21.41c.39.39.9.59 1.41.59.51 0 1.02-.2 1.41-.59l7.78-7.78 2.81-2.81c.8-.78.8-2.07 0-2.86zM5.41 20L4 18.59l7.72-7.72 1.47 1.35L5.41 20z\"/>\n",
              "  </svg>\n",
              "      </button>\n",
              "      \n",
              "  <style>\n",
              "    .colab-df-container {\n",
              "      display:flex;\n",
              "      flex-wrap:wrap;\n",
              "      gap: 12px;\n",
              "    }\n",
              "\n",
              "    .colab-df-convert {\n",
              "      background-color: #E8F0FE;\n",
              "      border: none;\n",
              "      border-radius: 50%;\n",
              "      cursor: pointer;\n",
              "      display: none;\n",
              "      fill: #1967D2;\n",
              "      height: 32px;\n",
              "      padding: 0 0 0 0;\n",
              "      width: 32px;\n",
              "    }\n",
              "\n",
              "    .colab-df-convert:hover {\n",
              "      background-color: #E2EBFA;\n",
              "      box-shadow: 0px 1px 2px rgba(60, 64, 67, 0.3), 0px 1px 3px 1px rgba(60, 64, 67, 0.15);\n",
              "      fill: #174EA6;\n",
              "    }\n",
              "\n",
              "    [theme=dark] .colab-df-convert {\n",
              "      background-color: #3B4455;\n",
              "      fill: #D2E3FC;\n",
              "    }\n",
              "\n",
              "    [theme=dark] .colab-df-convert:hover {\n",
              "      background-color: #434B5C;\n",
              "      box-shadow: 0px 1px 3px 1px rgba(0, 0, 0, 0.15);\n",
              "      filter: drop-shadow(0px 1px 2px rgba(0, 0, 0, 0.3));\n",
              "      fill: #FFFFFF;\n",
              "    }\n",
              "  </style>\n",
              "\n",
              "      <script>\n",
              "        const buttonEl =\n",
              "          document.querySelector('#df-81350287-4a1f-41d8-923e-f4f2dcebf123 button.colab-df-convert');\n",
              "        buttonEl.style.display =\n",
              "          google.colab.kernel.accessAllowed ? 'block' : 'none';\n",
              "\n",
              "        async function convertToInteractive(key) {\n",
              "          const element = document.querySelector('#df-81350287-4a1f-41d8-923e-f4f2dcebf123');\n",
              "          const dataTable =\n",
              "            await google.colab.kernel.invokeFunction('convertToInteractive',\n",
              "                                                     [key], {});\n",
              "          if (!dataTable) return;\n",
              "\n",
              "          const docLinkHtml = 'Like what you see? Visit the ' +\n",
              "            '<a target=\"_blank\" href=https://colab.research.google.com/notebooks/data_table.ipynb>data table notebook</a>'\n",
              "            + ' to learn more about interactive tables.';\n",
              "          element.innerHTML = '';\n",
              "          dataTable['output_type'] = 'display_data';\n",
              "          await google.colab.output.renderOutput(dataTable, element);\n",
              "          const docLink = document.createElement('div');\n",
              "          docLink.innerHTML = docLinkHtml;\n",
              "          element.appendChild(docLink);\n",
              "        }\n",
              "      </script>\n",
              "    </div>\n",
              "  </div>\n",
              "  "
            ]
          },
          "metadata": {},
          "execution_count": 49
        }
      ]
    },
    {
      "cell_type": "code",
      "source": [
        "import tensorflow as tf\n",
        "from tensorflow import keras"
      ],
      "metadata": {
        "id": "9FRC0a9B2CWY"
      },
      "execution_count": 50,
      "outputs": []
    },
    {
      "cell_type": "code",
      "source": [
        "max_len=31\n",
        "def build_model():\n",
        "    encoder=TFAutoModel.from_pretrained('ynie/roberta-large-snli_mnli_fever_anli_R1_R2_R3-nli',from_pt=True)\n",
        "    input_word_ids=tf.keras.Input(shape=(max_len,),dtype=tf.int32,name=\"input_word_ids\")  \n",
        "    input_mask=tf.keras.Input(shape=(max_len,),dtype=tf.int32,name=\"input_mask\")\n",
        "    embedding=encoder([input_word_ids,input_mask])[0] \n",
        "    output=tf.keras.layers.Dense(2,activation='softmax')(embedding[:,0,:])\n",
        "    model=tf.keras.Model(inputs=[input_word_ids,input_mask],outputs=output) \n",
        "    loss_fn=keras.losses.SparseCategoricalCrossentropy() \n",
        "    model.compile(tf.keras.optimizers.Adam(lr=1e-5),loss=loss_fn,metrics=['accuracy'])\n",
        "    return(model)"
      ],
      "metadata": {
        "id": "uoARbOLY12Ls"
      },
      "execution_count": 69,
      "outputs": []
    },
    {
      "cell_type": "code",
      "source": [
        "def input_data_con(data):\n",
        "    inputs={'input_word_ids':list(),'input_mask':list()}\n",
        "    for i in data:\n",
        "        inputs['input_word_ids'].append(i['input_ids'])\n",
        "        inputs['input_mask'].append(i['attention_mask'])\n",
        "    inputs['input_word_ids']=tf.ragged.constant(inputs['input_word_ids']).to_tensor()\n",
        "    inputs['input_mask']=tf.ragged.constant(inputs['input_mask']).to_tensor()\n",
        "    return(inputs)"
      ],
      "metadata": {
        "id": "_bX1WXv72QNZ"
      },
      "execution_count": 70,
      "outputs": []
    },
    {
      "cell_type": "code",
      "source": [
        "df_train_input=input_data_con(df_train['masked'].values)\n",
        "for key in df_train_input.keys():\n",
        "    df_train_input[key] =df_train_input[key][:,:max_len]"
      ],
      "metadata": {
        "id": "NSRG542d2I9g"
      },
      "execution_count": 71,
      "outputs": []
    },
    {
      "cell_type": "code",
      "source": [
        "df_dev_input=input_data_con(df_dev['masked'].values)\n",
        "for key in df_dev_input.keys():\n",
        "    df_dev_input[key]=df_dev_input[key][:,:max_len]"
      ],
      "metadata": {
        "id": "E3Vn1hsO4h4A"
      },
      "execution_count": 72,
      "outputs": []
    },
    {
      "cell_type": "code",
      "source": [
        "model=build_model()\n",
        "model.summary()"
      ],
      "metadata": {
        "colab": {
          "base_uri": "https://localhost:8080/"
        },
        "id": "3xZT0V7c27T_",
        "outputId": "6bbf1117-9c5d-43fa-e7a6-7d202815fa24"
      },
      "execution_count": 73,
      "outputs": [
        {
          "output_type": "stream",
          "name": "stderr",
          "text": [
            "Some weights of the PyTorch model were not used when initializing the TF 2.0 model TFRobertaModel: ['classifier.out_proj.weight', 'classifier.out_proj.bias', 'classifier.dense.weight', 'classifier.dense.bias']\n",
            "- This IS expected if you are initializing TFRobertaModel from a PyTorch model trained on another task or with another architecture (e.g. initializing a TFBertForSequenceClassification model from a BertForPreTraining model).\n",
            "- This IS NOT expected if you are initializing TFRobertaModel from a PyTorch model that you expect to be exactly identical (e.g. initializing a TFBertForSequenceClassification model from a BertForSequenceClassification model).\n",
            "All the weights of TFRobertaModel were initialized from the PyTorch model.\n",
            "If your task is similar to the task the model of the checkpoint was trained on, you can already use TFRobertaModel for predictions without further training.\n"
          ]
        },
        {
          "output_type": "stream",
          "name": "stdout",
          "text": [
            "Model: \"model_2\"\n",
            "__________________________________________________________________________________________________\n",
            " Layer (type)                   Output Shape         Param #     Connected to                     \n",
            "==================================================================================================\n",
            " input_word_ids (InputLayer)    [(None, 31)]         0           []                               \n",
            "                                                                                                  \n",
            " input_mask (InputLayer)        [(None, 31)]         0           []                               \n",
            "                                                                                                  \n",
            " tf_roberta_model_2 (TFRobertaM  TFBaseModelOutputWi  355359744  ['input_word_ids[0][0]',         \n",
            " odel)                          thPoolingAndCrossAt               'input_mask[0][0]']             \n",
            "                                tentions(last_hidde                                               \n",
            "                                n_state=(None, 31,                                                \n",
            "                                1024),                                                            \n",
            "                                 pooler_output=(Non                                               \n",
            "                                e, 1024),                                                         \n",
            "                                 past_key_values=No                                               \n",
            "                                ne, hidden_states=N                                               \n",
            "                                one, attentions=Non                                               \n",
            "                                e, cross_attentions                                               \n",
            "                                =None)                                                            \n",
            "                                                                                                  \n",
            " tf.__operators__.getitem_2 (Sl  (None, 1024)        0           ['tf_roberta_model_2[0][0]']     \n",
            " icingOpLambda)                                                                                   \n",
            "                                                                                                  \n",
            " dense_2 (Dense)                (None, 2)            2050        ['tf.__operators__.getitem_2[0][0\n",
            "                                                                 ]']                              \n",
            "                                                                                                  \n",
            "==================================================================================================\n",
            "Total params: 355,361,794\n",
            "Trainable params: 355,361,794\n",
            "Non-trainable params: 0\n",
            "__________________________________________________________________________________________________\n"
          ]
        },
        {
          "output_type": "stream",
          "name": "stderr",
          "text": [
            "/usr/local/lib/python3.7/dist-packages/keras/optimizer_v2/adam.py:105: UserWarning: The `lr` argument is deprecated, use `learning_rate` instead.\n",
            "  super(Adam, self).__init__(name, **kwargs)\n"
          ]
        }
      ]
    },
    {
      "cell_type": "code",
      "source": [
        "model.fit(df_train_input,df_train['labels'],verbose=2,validation_data=(df_dev_input,df_dev['labels']),epochs=8) "
      ],
      "metadata": {
        "colab": {
          "base_uri": "https://localhost:8080/"
        },
        "id": "TH13n3J-3MB7",
        "outputId": "0af55de9-5f37-4287-9904-ff72f974f0fe"
      },
      "execution_count": 74,
      "outputs": [
        {
          "output_type": "stream",
          "name": "stdout",
          "text": [
            "Epoch 1/8\n",
            "WARNING:tensorflow:Gradients do not exist for variables ['tf_roberta_model_2/roberta/pooler/dense/kernel:0', 'tf_roberta_model_2/roberta/pooler/dense/bias:0'] when minimizing the loss. If you're using `model.compile()`, did you forget to provide a `loss`argument?\n",
            "WARNING:tensorflow:Gradients do not exist for variables ['tf_roberta_model_2/roberta/pooler/dense/kernel:0', 'tf_roberta_model_2/roberta/pooler/dense/bias:0'] when minimizing the loss. If you're using `model.compile()`, did you forget to provide a `loss`argument?\n",
            "187/187 - 181s - loss: 0.3399 - accuracy: 0.8641 - val_loss: 0.2552 - val_accuracy: 0.9062 - 181s/epoch - 965ms/step\n",
            "Epoch 2/8\n",
            "187/187 - 141s - loss: 0.1960 - accuracy: 0.9340 - val_loss: 0.2353 - val_accuracy: 0.9175 - 141s/epoch - 756ms/step\n",
            "Epoch 3/8\n",
            "187/187 - 141s - loss: 0.1335 - accuracy: 0.9555 - val_loss: 0.2952 - val_accuracy: 0.9137 - 141s/epoch - 755ms/step\n",
            "Epoch 4/8\n",
            "187/187 - 141s - loss: 0.0840 - accuracy: 0.9708 - val_loss: 0.2986 - val_accuracy: 0.9118 - 141s/epoch - 753ms/step\n",
            "Epoch 5/8\n",
            "187/187 - 141s - loss: 0.0573 - accuracy: 0.9808 - val_loss: 0.3949 - val_accuracy: 0.9118 - 141s/epoch - 755ms/step\n",
            "Epoch 6/8\n",
            "187/187 - 141s - loss: 0.0449 - accuracy: 0.9840 - val_loss: 0.3271 - val_accuracy: 0.9071 - 141s/epoch - 755ms/step\n",
            "Epoch 7/8\n",
            "187/187 - 141s - loss: 0.0380 - accuracy: 0.9873 - val_loss: 0.4731 - val_accuracy: 0.9118 - 141s/epoch - 754ms/step\n",
            "Epoch 8/8\n",
            "187/187 - 141s - loss: 0.0314 - accuracy: 0.9891 - val_loss: 0.4496 - val_accuracy: 0.9185 - 141s/epoch - 755ms/step\n"
          ]
        },
        {
          "output_type": "execute_result",
          "data": {
            "text/plain": [
              "<keras.callbacks.History at 0x7fed06081a50>"
            ]
          },
          "metadata": {},
          "execution_count": 74
        }
      ]
    },
    {
      "cell_type": "code",
      "source": [
        "tokenized_test=[]\n",
        "for i in range(len(test_data)):\n",
        "    pre=encoding_precondition(test_data['precondition'][i])\n",
        "    st=encode_statement(test_data['statement'][i])\n",
        "    tokenized_test.append(pre+st)\n",
        "test_data['tokenized']=tokenized_test\n",
        "test_data.head()"
      ],
      "metadata": {
        "id": "EJ-4cE_zlIX9",
        "colab": {
          "base_uri": "https://localhost:8080/",
          "height": 206
        },
        "outputId": "07d1df7a-1a22-4538-88fc-f7652857ba02"
      },
      "execution_count": 75,
      "outputs": [
        {
          "output_type": "execute_result",
          "data": {
            "text/plain": [
              "                                        precondition  \\\n",
              "0  The people want to have a romantic and pleasan...   \n",
              "1          The contract is to buy products from you.   \n",
              "2                           Train station is closed.   \n",
              "3           There is no water for driving the boats.   \n",
              "4                                  The poet is busy.   \n",
              "\n",
              "                                           statement  \\\n",
              "0     People typically does desire to smell violets.   \n",
              "1  Getting contract typically cause to make money...   \n",
              "2  Line can typically be used to move train along...   \n",
              "3      People typically desires drive boats for fun.   \n",
              "4    Poet can typically be used for creating poetry.   \n",
              "\n",
              "                                           tokenized  \n",
              "0  [3, 133, 82, 236, 7, 33, 10, 8728, 8, 16219, 6...  \n",
              "1  [3, 133, 1355, 16, 7, 907, 785, 31, 47, 4, 3, ...  \n",
              "2  [3, 40249, 1992, 16, 1367, 4, 3, 18997, 64, 37...  \n",
              "3  [3, 970, 16, 117, 514, 13, 1428, 5, 8934, 4, 3...  \n",
              "4  [3, 133, 16893, 16, 3610, 4, 3, 26170, 594, 64...  "
            ],
            "text/html": [
              "\n",
              "  <div id=\"df-3e482e57-fc57-4fbe-9849-f2d4df87af51\">\n",
              "    <div class=\"colab-df-container\">\n",
              "      <div>\n",
              "<style scoped>\n",
              "    .dataframe tbody tr th:only-of-type {\n",
              "        vertical-align: middle;\n",
              "    }\n",
              "\n",
              "    .dataframe tbody tr th {\n",
              "        vertical-align: top;\n",
              "    }\n",
              "\n",
              "    .dataframe thead th {\n",
              "        text-align: right;\n",
              "    }\n",
              "</style>\n",
              "<table border=\"1\" class=\"dataframe\">\n",
              "  <thead>\n",
              "    <tr style=\"text-align: right;\">\n",
              "      <th></th>\n",
              "      <th>precondition</th>\n",
              "      <th>statement</th>\n",
              "      <th>tokenized</th>\n",
              "    </tr>\n",
              "  </thead>\n",
              "  <tbody>\n",
              "    <tr>\n",
              "      <th>0</th>\n",
              "      <td>The people want to have a romantic and pleasan...</td>\n",
              "      <td>People typically does desire to smell violets.</td>\n",
              "      <td>[3, 133, 82, 236, 7, 33, 10, 8728, 8, 16219, 6...</td>\n",
              "    </tr>\n",
              "    <tr>\n",
              "      <th>1</th>\n",
              "      <td>The contract is to buy products from you.</td>\n",
              "      <td>Getting contract typically cause to make money...</td>\n",
              "      <td>[3, 133, 1355, 16, 7, 907, 785, 31, 47, 4, 3, ...</td>\n",
              "    </tr>\n",
              "    <tr>\n",
              "      <th>2</th>\n",
              "      <td>Train station is closed.</td>\n",
              "      <td>Line can typically be used to move train along...</td>\n",
              "      <td>[3, 40249, 1992, 16, 1367, 4, 3, 18997, 64, 37...</td>\n",
              "    </tr>\n",
              "    <tr>\n",
              "      <th>3</th>\n",
              "      <td>There is no water for driving the boats.</td>\n",
              "      <td>People typically desires drive boats for fun.</td>\n",
              "      <td>[3, 970, 16, 117, 514, 13, 1428, 5, 8934, 4, 3...</td>\n",
              "    </tr>\n",
              "    <tr>\n",
              "      <th>4</th>\n",
              "      <td>The poet is busy.</td>\n",
              "      <td>Poet can typically be used for creating poetry.</td>\n",
              "      <td>[3, 133, 16893, 16, 3610, 4, 3, 26170, 594, 64...</td>\n",
              "    </tr>\n",
              "  </tbody>\n",
              "</table>\n",
              "</div>\n",
              "      <button class=\"colab-df-convert\" onclick=\"convertToInteractive('df-3e482e57-fc57-4fbe-9849-f2d4df87af51')\"\n",
              "              title=\"Convert this dataframe to an interactive table.\"\n",
              "              style=\"display:none;\">\n",
              "        \n",
              "  <svg xmlns=\"http://www.w3.org/2000/svg\" height=\"24px\"viewBox=\"0 0 24 24\"\n",
              "       width=\"24px\">\n",
              "    <path d=\"M0 0h24v24H0V0z\" fill=\"none\"/>\n",
              "    <path d=\"M18.56 5.44l.94 2.06.94-2.06 2.06-.94-2.06-.94-.94-2.06-.94 2.06-2.06.94zm-11 1L8.5 8.5l.94-2.06 2.06-.94-2.06-.94L8.5 2.5l-.94 2.06-2.06.94zm10 10l.94 2.06.94-2.06 2.06-.94-2.06-.94-.94-2.06-.94 2.06-2.06.94z\"/><path d=\"M17.41 7.96l-1.37-1.37c-.4-.4-.92-.59-1.43-.59-.52 0-1.04.2-1.43.59L10.3 9.45l-7.72 7.72c-.78.78-.78 2.05 0 2.83L4 21.41c.39.39.9.59 1.41.59.51 0 1.02-.2 1.41-.59l7.78-7.78 2.81-2.81c.8-.78.8-2.07 0-2.86zM5.41 20L4 18.59l7.72-7.72 1.47 1.35L5.41 20z\"/>\n",
              "  </svg>\n",
              "      </button>\n",
              "      \n",
              "  <style>\n",
              "    .colab-df-container {\n",
              "      display:flex;\n",
              "      flex-wrap:wrap;\n",
              "      gap: 12px;\n",
              "    }\n",
              "\n",
              "    .colab-df-convert {\n",
              "      background-color: #E8F0FE;\n",
              "      border: none;\n",
              "      border-radius: 50%;\n",
              "      cursor: pointer;\n",
              "      display: none;\n",
              "      fill: #1967D2;\n",
              "      height: 32px;\n",
              "      padding: 0 0 0 0;\n",
              "      width: 32px;\n",
              "    }\n",
              "\n",
              "    .colab-df-convert:hover {\n",
              "      background-color: #E2EBFA;\n",
              "      box-shadow: 0px 1px 2px rgba(60, 64, 67, 0.3), 0px 1px 3px 1px rgba(60, 64, 67, 0.15);\n",
              "      fill: #174EA6;\n",
              "    }\n",
              "\n",
              "    [theme=dark] .colab-df-convert {\n",
              "      background-color: #3B4455;\n",
              "      fill: #D2E3FC;\n",
              "    }\n",
              "\n",
              "    [theme=dark] .colab-df-convert:hover {\n",
              "      background-color: #434B5C;\n",
              "      box-shadow: 0px 1px 3px 1px rgba(0, 0, 0, 0.15);\n",
              "      filter: drop-shadow(0px 1px 2px rgba(0, 0, 0, 0.3));\n",
              "      fill: #FFFFFF;\n",
              "    }\n",
              "  </style>\n",
              "\n",
              "      <script>\n",
              "        const buttonEl =\n",
              "          document.querySelector('#df-3e482e57-fc57-4fbe-9849-f2d4df87af51 button.colab-df-convert');\n",
              "        buttonEl.style.display =\n",
              "          google.colab.kernel.accessAllowed ? 'block' : 'none';\n",
              "\n",
              "        async function convertToInteractive(key) {\n",
              "          const element = document.querySelector('#df-3e482e57-fc57-4fbe-9849-f2d4df87af51');\n",
              "          const dataTable =\n",
              "            await google.colab.kernel.invokeFunction('convertToInteractive',\n",
              "                                                     [key], {});\n",
              "          if (!dataTable) return;\n",
              "\n",
              "          const docLinkHtml = 'Like what you see? Visit the ' +\n",
              "            '<a target=\"_blank\" href=https://colab.research.google.com/notebooks/data_table.ipynb>data table notebook</a>'\n",
              "            + ' to learn more about interactive tables.';\n",
              "          element.innerHTML = '';\n",
              "          dataTable['output_type'] = 'display_data';\n",
              "          await google.colab.output.renderOutput(dataTable, element);\n",
              "          const docLink = document.createElement('div');\n",
              "          docLink.innerHTML = docLinkHtml;\n",
              "          element.appendChild(docLink);\n",
              "        }\n",
              "      </script>\n",
              "    </div>\n",
              "  </div>\n",
              "  "
            ]
          },
          "metadata": {},
          "execution_count": 75
        }
      ]
    },
    {
      "cell_type": "code",
      "source": [
        "mask_test=[]\n",
        "for i in range(len(test_data)):\n",
        "    padded_seq=tokenizer(test_data['precondition'][i],test_data['statement'][i],padding=True,add_special_tokens=True)\n",
        "    mask_test.append(padded_seq)\n",
        "test_data['masked'] =mask_test\n",
        "df_test_input=input_data_con(test_data['masked'].values)\n",
        "for key in df_test_input.keys():\n",
        "    df_test_input[key]=df_test_input[key][:,:max_len]"
      ],
      "metadata": {
        "id": "sMXq5OuGca8L"
      },
      "execution_count": 76,
      "outputs": []
    },
    {
      "cell_type": "markdown",
      "source": [
        "### Output Prediction Result File"
      ],
      "metadata": {
        "id": "Uxi-lZjinsMi"
      }
    },
    {
      "cell_type": "markdown",
      "source": [
        "You will need to submit a prediction result file. It should have 2028 lines, every line should be either 0 or 1, which is your model's prediction on the respective test set instance."
      ],
      "metadata": {
        "id": "5Bm0f4lAntkA"
      }
    },
    {
      "cell_type": "code",
      "source": [
        "results = []"
      ],
      "metadata": {
        "id": "8dyAYnf9nKI9"
      },
      "execution_count": 77,
      "outputs": []
    },
    {
      "cell_type": "code",
      "source": [
        "import numpy as np"
      ],
      "metadata": {
        "id": "Hw_e3HhooCpK"
      },
      "execution_count": 78,
      "outputs": []
    },
    {
      "cell_type": "code",
      "source": [
        "results=[np.argmax(i) for i in model.predict(df_test_input)] "
      ],
      "metadata": {
        "id": "IohoUXBtn8vj"
      },
      "execution_count": 79,
      "outputs": []
    },
    {
      "cell_type": "code",
      "source": [
        "# suppose you had your model's predictions on the 2028 test cases read from test_enc_unlabeled.tsv, and \n",
        "#those results are in the list called 'results'\n",
        "assert (len(results) == 4850)"
      ],
      "metadata": {
        "id": "U7AQJnLGnJBR"
      },
      "execution_count": 80,
      "outputs": []
    },
    {
      "cell_type": "code",
      "source": [
        "# make sure the results are not float numbers, but intergers 0 and 1\n",
        "results = [int(x) for x in results]"
      ],
      "metadata": {
        "id": "jmEQrJ0wny8I"
      },
      "execution_count": 81,
      "outputs": []
    },
    {
      "cell_type": "code",
      "source": [
        "# write your prediction results to 'upload_predictions.txt' and upload that later\n",
        "with open('upload_predictions.txt', 'w', encoding = 'utf-8') as fp:\n",
        "    for x in results:\n",
        "        fp.write(str(x) + '\\n')"
      ],
      "metadata": {
        "id": "VSCJD-T5n1do"
      },
      "execution_count": 82,
      "outputs": []
    },
    {
      "cell_type": "code",
      "source": [
        ""
      ],
      "metadata": {
        "id": "exKIXYK5H21T"
      },
      "execution_count": null,
      "outputs": []
    }
  ]
}